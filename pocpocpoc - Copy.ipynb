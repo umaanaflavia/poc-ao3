{
  "cells": [
    {
      "cell_type": "markdown",
      "metadata": {
        "id": "Svq1Ij-GLBL5"
      },
      "source": [
        "## Graph Metrics"
      ]
    },
    {
      "cell_type": "markdown",
      "metadata": {
        "id": "9e8pw3fKTbP3"
      },
      "source": [
        "###Definitions"
      ]
    },
    {
      "cell_type": "code",
      "execution_count": 2,
      "metadata": {
        "id": "8vupQBttDarz"
      },
      "outputs": [],
      "source": [
        "import networkx as nx\n",
        "import matplotlib.pyplot as plt\n",
        "\n",
        "def calculate_average_degree(graph_file):\n",
        "    # Calculate the degrees of all nodes in the graph\n",
        "    degrees = dict(graph.degree())\n",
        "\n",
        "    # Calculate the average degree\n",
        "    total_degree = sum(degrees.values())\n",
        "    average_degree = total_degree / len(degrees)\n",
        "\n",
        "    return average_degree\n",
        "\n",
        "\n",
        "def plot_degree_distribution(graph):\n",
        "    degrees = [graph.degree(node) for node in graph.nodes()]\n",
        "    degree_counts = nx.degree_histogram(graph)\n",
        "    degrees_range = range(len(degree_counts))\n",
        "\n",
        "    plt.bar(degrees_range, degree_counts, width=0.8, color='b')\n",
        "    plt.title(\"Degree Distribution\")\n",
        "    plt.xlabel(\"Degree\")\n",
        "    plt.ylabel(\"Frequency\")\n",
        "    plt.show()\n",
        "\n",
        "\n",
        "def calculate_average_shortest_path_length(graph):\n",
        "    # Get the connected components\n",
        "    connected_components = list(nx.connected_components(graph))\n",
        "\n",
        "    # Calculate average shortest path length for each component\n",
        "    avg_shortest_path_lengths = []\n",
        "    for component in connected_components:\n",
        "        if len(component) > 1:\n",
        "            subgraph = graph.subgraph(component)\n",
        "            avg_shortest_path_length = nx.average_shortest_path_length(subgraph)\n",
        "            avg_shortest_path_lengths.append(avg_shortest_path_length)\n",
        "\n",
        "    # Calculate overall average\n",
        "    overall_avg_shortest_path_length = sum(avg_shortest_path_lengths) / len(avg_shortest_path_lengths)\n",
        "\n",
        "    return overall_avg_shortest_path_length\n",
        "\n",
        "\n",
        "def calculate_diameter(graph):\n",
        "    # Get the connected components\n",
        "    connected_components = list(nx.connected_components(graph))\n",
        "\n",
        "    # Calculate diameter for each component\n",
        "    diameters = []\n",
        "    for component in connected_components:\n",
        "        if len(component) > 1:\n",
        "            subgraph = graph.subgraph(component)\n",
        "            diameter = nx.diameter(subgraph)\n",
        "            diameters.append(diameter)\n",
        "\n",
        "    # Get the maximum diameter among all components\n",
        "    max_diameter = max(diameters)\n",
        "\n",
        "    return max_diameter\n",
        "\n",
        "\n",
        "def plot_page_rank(page_rank):\n",
        "    # Extract nodes and corresponding PageRank scores\n",
        "    nodes = list(page_rank.keys())\n",
        "    scores = list(page_rank.values())\n",
        "\n",
        "    # Plot PageRank scores\n",
        "    plt.figure(figsize=(10, 6))\n",
        "    plt.bar(nodes, scores)\n",
        "    plt.xlabel('Nodes')\n",
        "    plt.ylabel('PageRank')\n",
        "    plt.title('PageRank Scores')\n",
        "    plt.xticks([])\n",
        "    plt.show()\n",
        "\n",
        "\n",
        "def plot_betweenness_centrality(betweenness_centrality):\n",
        "    # Extract nodes and corresponding betweenness centrality scores\n",
        "    nodes = list(betweenness_centrality.keys())\n",
        "    centrality_scores = list(betweenness_centrality.values())\n",
        "\n",
        "    # Plot betweenness centrality scores\n",
        "    plt.figure(figsize=(10, 6))\n",
        "    plt.bar(nodes, centrality_scores)\n",
        "    plt.xlabel('Nodes')\n",
        "    plt.ylabel('Betweenness Centrality')\n",
        "    plt.title('Betweenness Centrality Scores')\n",
        "    plt.xticks([])\n",
        "    plt.show()\n",
        "\n",
        "\n",
        "def plot_closeness_centrality(closeness_centrality):\n",
        "    # Extract nodes and corresponding closeness centrality scores\n",
        "    nodes = list(closeness_centrality.keys())\n",
        "    centrality_scores = list(closeness_centrality.values())\n",
        "\n",
        "    # Plot closeness centrality scores\n",
        "    plt.figure(figsize=(10, 6))\n",
        "    plt.bar(nodes, centrality_scores)\n",
        "    plt.xlabel('Nodes')\n",
        "    plt.ylabel('Closeness Centrality')\n",
        "    plt.title('Closeness Centrality Scores')\n",
        "    plt.xticks([])\n",
        "    plt.show()\n",
        "\n",
        "\n",
        "def plot_eigenvector_centrality(eigenvector_centrality):\n",
        "    # Extract nodes and corresponding eigenvector centrality scores\n",
        "    nodes = list(eigenvector_centrality.keys())\n",
        "    centrality_scores = list(eigenvector_centrality.values())\n",
        "\n",
        "    # Plot eigenvector centrality scores\n",
        "    plt.figure(figsize=(10, 6))\n",
        "    plt.bar(nodes, centrality_scores)\n",
        "    plt.xlabel('Nodes')\n",
        "    plt.ylabel('Eigenvector Centrality')\n",
        "    plt.title('Eigenvector Centrality Scores')\n",
        "    plt.xticks([])\n",
        "    plt.show()"
      ]
    },
    {
      "cell_type": "code",
      "execution_count": 4,
      "metadata": {
        "id": "tYz6Q6_mTgO9"
      },
      "outputs": [
        {
          "ename": "KeyboardInterrupt",
          "evalue": "",
          "output_type": "error",
          "traceback": [
            "\u001b[1;31m---------------------------------------------------------------------------\u001b[0m",
            "\u001b[1;31mKeyboardInterrupt\u001b[0m                         Traceback (most recent call last)",
            "Cell \u001b[1;32mIn[4], line 2\u001b[0m\n\u001b[0;32m      1\u001b[0m graph_file \u001b[38;5;241m=\u001b[39m \u001b[38;5;124m\"\u001b[39m\u001b[38;5;124mGrafos/fil.graphml\u001b[39m\u001b[38;5;124m\"\u001b[39m  \u001b[38;5;66;03m# Replace this with the path to your GraphML file\u001b[39;00m\n\u001b[1;32m----> 2\u001b[0m graph \u001b[38;5;241m=\u001b[39m \u001b[43mnx\u001b[49m\u001b[38;5;241;43m.\u001b[39;49m\u001b[43mread_graphml\u001b[49m\u001b[43m(\u001b[49m\u001b[43mgraph_file\u001b[49m\u001b[43m)\u001b[49m\n",
            "File \u001b[1;32m<class 'networkx.utils.decorators.argmap'> compilation 6:5\u001b[0m, in \u001b[0;36margmap_read_graphml_1\u001b[1;34m(path, node_type, edge_key_type, force_multigraph, backend, **backend_kwargs)\u001b[0m\n\u001b[0;32m      3\u001b[0m \u001b[38;5;28;01mimport\u001b[39;00m \u001b[38;5;21;01mgzip\u001b[39;00m\n\u001b[0;32m      4\u001b[0m \u001b[38;5;28;01mimport\u001b[39;00m \u001b[38;5;21;01minspect\u001b[39;00m\n\u001b[1;32m----> 5\u001b[0m \u001b[38;5;28;01mimport\u001b[39;00m \u001b[38;5;21;01mitertools\u001b[39;00m\n\u001b[0;32m      6\u001b[0m \u001b[38;5;28;01mimport\u001b[39;00m \u001b[38;5;21;01mre\u001b[39;00m\n\u001b[0;32m      7\u001b[0m \u001b[38;5;28;01mimport\u001b[39;00m \u001b[38;5;21;01mwarnings\u001b[39;00m\n",
            "File \u001b[1;32mc:\\Users\\umaanaflavia\\AppData\\Local\\Programs\\Python\\Python312\\Lib\\site-packages\\networkx\\utils\\backends.py:633\u001b[0m, in \u001b[0;36m_dispatchable.__call__\u001b[1;34m(self, backend, *args, **kwargs)\u001b[0m\n\u001b[0;32m    628\u001b[0m \u001b[38;5;250m\u001b[39m\u001b[38;5;124;03m\"\"\"Returns the result of the original function, or the backend function if\u001b[39;00m\n\u001b[0;32m    629\u001b[0m \u001b[38;5;124;03mthe backend is specified and that backend implements `func`.\"\"\"\u001b[39;00m\n\u001b[0;32m    631\u001b[0m \u001b[38;5;28;01mif\u001b[39;00m \u001b[38;5;129;01mnot\u001b[39;00m backends:\n\u001b[0;32m    632\u001b[0m     \u001b[38;5;66;03m# Fast path if no backends are installed\u001b[39;00m\n\u001b[1;32m--> 633\u001b[0m     \u001b[38;5;28;01mreturn\u001b[39;00m \u001b[38;5;28;43mself\u001b[39;49m\u001b[38;5;241;43m.\u001b[39;49m\u001b[43morig_func\u001b[49m\u001b[43m(\u001b[49m\u001b[38;5;241;43m*\u001b[39;49m\u001b[43margs\u001b[49m\u001b[43m,\u001b[49m\u001b[43m \u001b[49m\u001b[38;5;241;43m*\u001b[39;49m\u001b[38;5;241;43m*\u001b[39;49m\u001b[43mkwargs\u001b[49m\u001b[43m)\u001b[49m\n\u001b[0;32m    635\u001b[0m \u001b[38;5;66;03m# Use `backend_name` in this function instead of `backend`\u001b[39;00m\n\u001b[0;32m    636\u001b[0m backend_name \u001b[38;5;241m=\u001b[39m backend\n",
            "File \u001b[1;32mc:\\Users\\umaanaflavia\\AppData\\Local\\Programs\\Python\\Python312\\Lib\\site-packages\\networkx\\readwrite\\graphml.py:296\u001b[0m, in \u001b[0;36mread_graphml\u001b[1;34m(path, node_type, edge_key_type, force_multigraph)\u001b[0m\n\u001b[0;32m    294\u001b[0m reader \u001b[38;5;241m=\u001b[39m GraphMLReader(node_type, edge_key_type, force_multigraph)\n\u001b[0;32m    295\u001b[0m \u001b[38;5;66;03m# need to check for multiple graphs\u001b[39;00m\n\u001b[1;32m--> 296\u001b[0m glist \u001b[38;5;241m=\u001b[39m \u001b[38;5;28;43mlist\u001b[39;49m\u001b[43m(\u001b[49m\u001b[43mreader\u001b[49m\u001b[43m(\u001b[49m\u001b[43mpath\u001b[49m\u001b[38;5;241;43m=\u001b[39;49m\u001b[43mpath\u001b[49m\u001b[43m)\u001b[49m\u001b[43m)\u001b[49m\n\u001b[0;32m    297\u001b[0m \u001b[38;5;28;01mif\u001b[39;00m \u001b[38;5;28mlen\u001b[39m(glist) \u001b[38;5;241m==\u001b[39m \u001b[38;5;241m0\u001b[39m:\n\u001b[0;32m    298\u001b[0m     \u001b[38;5;66;03m# If no graph comes back, try looking for an incomplete header\u001b[39;00m\n\u001b[0;32m    299\u001b[0m     header \u001b[38;5;241m=\u001b[39m \u001b[38;5;124mb\u001b[39m\u001b[38;5;124m'\u001b[39m\u001b[38;5;124m<graphml xmlns=\u001b[39m\u001b[38;5;124m\"\u001b[39m\u001b[38;5;124mhttp://graphml.graphdrawing.org/xmlns\u001b[39m\u001b[38;5;124m\"\u001b[39m\u001b[38;5;124m>\u001b[39m\u001b[38;5;124m'\u001b[39m\n",
            "File \u001b[1;32mc:\\Users\\umaanaflavia\\AppData\\Local\\Programs\\Python\\Python312\\Lib\\site-packages\\networkx\\readwrite\\graphml.py:859\u001b[0m, in \u001b[0;36mGraphMLReader.__call__\u001b[1;34m(self, path, string)\u001b[0m\n\u001b[0;32m    857\u001b[0m (keys, defaults) \u001b[38;5;241m=\u001b[39m \u001b[38;5;28mself\u001b[39m\u001b[38;5;241m.\u001b[39mfind_graphml_keys(\u001b[38;5;28mself\u001b[39m\u001b[38;5;241m.\u001b[39mxml)\n\u001b[0;32m    858\u001b[0m \u001b[38;5;28;01mfor\u001b[39;00m g \u001b[38;5;129;01min\u001b[39;00m \u001b[38;5;28mself\u001b[39m\u001b[38;5;241m.\u001b[39mxml\u001b[38;5;241m.\u001b[39mfindall(\u001b[38;5;124mf\u001b[39m\u001b[38;5;124m\"\u001b[39m\u001b[38;5;130;01m{{\u001b[39;00m\u001b[38;5;132;01m{\u001b[39;00m\u001b[38;5;28mself\u001b[39m\u001b[38;5;241m.\u001b[39mNS_GRAPHML\u001b[38;5;132;01m}\u001b[39;00m\u001b[38;5;130;01m}}\u001b[39;00m\u001b[38;5;124mgraph\u001b[39m\u001b[38;5;124m\"\u001b[39m):\n\u001b[1;32m--> 859\u001b[0m     \u001b[38;5;28;01myield\u001b[39;00m \u001b[38;5;28;43mself\u001b[39;49m\u001b[38;5;241;43m.\u001b[39;49m\u001b[43mmake_graph\u001b[49m\u001b[43m(\u001b[49m\u001b[43mg\u001b[49m\u001b[43m,\u001b[49m\u001b[43m \u001b[49m\u001b[43mkeys\u001b[49m\u001b[43m,\u001b[49m\u001b[43m \u001b[49m\u001b[43mdefaults\u001b[49m\u001b[43m)\u001b[49m\n",
            "File \u001b[1;32mc:\\Users\\umaanaflavia\\AppData\\Local\\Programs\\Python\\Python312\\Lib\\site-packages\\networkx\\readwrite\\graphml.py:889\u001b[0m, in \u001b[0;36mGraphMLReader.make_graph\u001b[1;34m(self, graph_xml, graphml_keys, defaults, G)\u001b[0m\n\u001b[0;32m    887\u001b[0m \u001b[38;5;66;03m# add edges\u001b[39;00m\n\u001b[0;32m    888\u001b[0m \u001b[38;5;28;01mfor\u001b[39;00m edge_xml \u001b[38;5;129;01min\u001b[39;00m graph_xml\u001b[38;5;241m.\u001b[39mfindall(\u001b[38;5;124mf\u001b[39m\u001b[38;5;124m\"\u001b[39m\u001b[38;5;130;01m{{\u001b[39;00m\u001b[38;5;132;01m{\u001b[39;00m\u001b[38;5;28mself\u001b[39m\u001b[38;5;241m.\u001b[39mNS_GRAPHML\u001b[38;5;132;01m}\u001b[39;00m\u001b[38;5;130;01m}}\u001b[39;00m\u001b[38;5;124medge\u001b[39m\u001b[38;5;124m\"\u001b[39m):\n\u001b[1;32m--> 889\u001b[0m     \u001b[38;5;28;43mself\u001b[39;49m\u001b[38;5;241;43m.\u001b[39;49m\u001b[43madd_edge\u001b[49m\u001b[43m(\u001b[49m\u001b[43mG\u001b[49m\u001b[43m,\u001b[49m\u001b[43m \u001b[49m\u001b[43medge_xml\u001b[49m\u001b[43m,\u001b[49m\u001b[43m \u001b[49m\u001b[43mgraphml_keys\u001b[49m\u001b[43m)\u001b[49m\n\u001b[0;32m    890\u001b[0m \u001b[38;5;66;03m# add graph data\u001b[39;00m\n\u001b[0;32m    891\u001b[0m data \u001b[38;5;241m=\u001b[39m \u001b[38;5;28mself\u001b[39m\u001b[38;5;241m.\u001b[39mdecode_data_elements(graphml_keys, graph_xml)\n",
            "File \u001b[1;32mc:\\Users\\umaanaflavia\\AppData\\Local\\Programs\\Python\\Python312\\Lib\\site-packages\\networkx\\readwrite\\graphml.py:937\u001b[0m, in \u001b[0;36mGraphMLReader.add_edge\u001b[1;34m(self, G, edge_element, graphml_keys)\u001b[0m\n\u001b[0;32m    935\u001b[0m source \u001b[38;5;241m=\u001b[39m \u001b[38;5;28mself\u001b[39m\u001b[38;5;241m.\u001b[39mnode_type(edge_element\u001b[38;5;241m.\u001b[39mget(\u001b[38;5;124m\"\u001b[39m\u001b[38;5;124msource\u001b[39m\u001b[38;5;124m\"\u001b[39m))\n\u001b[0;32m    936\u001b[0m target \u001b[38;5;241m=\u001b[39m \u001b[38;5;28mself\u001b[39m\u001b[38;5;241m.\u001b[39mnode_type(edge_element\u001b[38;5;241m.\u001b[39mget(\u001b[38;5;124m\"\u001b[39m\u001b[38;5;124mtarget\u001b[39m\u001b[38;5;124m\"\u001b[39m))\n\u001b[1;32m--> 937\u001b[0m data \u001b[38;5;241m=\u001b[39m \u001b[38;5;28;43mself\u001b[39;49m\u001b[38;5;241;43m.\u001b[39;49m\u001b[43mdecode_data_elements\u001b[49m\u001b[43m(\u001b[49m\u001b[43mgraphml_keys\u001b[49m\u001b[43m,\u001b[49m\u001b[43m \u001b[49m\u001b[43medge_element\u001b[49m\u001b[43m)\u001b[49m\n\u001b[0;32m    938\u001b[0m \u001b[38;5;66;03m# GraphML stores edge ids as an attribute\u001b[39;00m\n\u001b[0;32m    939\u001b[0m \u001b[38;5;66;03m# NetworkX uses them as keys in multigraphs too if no key\u001b[39;00m\n\u001b[0;32m    940\u001b[0m \u001b[38;5;66;03m# attribute is specified\u001b[39;00m\n\u001b[0;32m    941\u001b[0m edge_id \u001b[38;5;241m=\u001b[39m edge_element\u001b[38;5;241m.\u001b[39mget(\u001b[38;5;124m\"\u001b[39m\u001b[38;5;124mid\u001b[39m\u001b[38;5;124m\"\u001b[39m)\n",
            "File \u001b[1;32mc:\\Users\\umaanaflavia\\AppData\\Local\\Programs\\Python\\Python312\\Lib\\site-packages\\networkx\\readwrite\\graphml.py:972\u001b[0m, in \u001b[0;36mGraphMLReader.decode_data_elements\u001b[1;34m(self, graphml_keys, obj_xml)\u001b[0m\n\u001b[0;32m    970\u001b[0m text \u001b[38;5;241m=\u001b[39m data_element\u001b[38;5;241m.\u001b[39mtext\n\u001b[0;32m    971\u001b[0m \u001b[38;5;66;03m# assume anything with subelements is a yfiles extension\u001b[39;00m\n\u001b[1;32m--> 972\u001b[0m \u001b[38;5;28;01mif\u001b[39;00m text \u001b[38;5;129;01mis\u001b[39;00m \u001b[38;5;129;01mnot\u001b[39;00m \u001b[38;5;28;01mNone\u001b[39;00m \u001b[38;5;129;01mand\u001b[39;00m \u001b[38;5;28mlen\u001b[39m(\u001b[38;5;28;43mlist\u001b[39;49m\u001b[43m(\u001b[49m\u001b[43mdata_element\u001b[49m\u001b[43m)\u001b[49m) \u001b[38;5;241m==\u001b[39m \u001b[38;5;241m0\u001b[39m:\n\u001b[0;32m    973\u001b[0m     \u001b[38;5;28;01mif\u001b[39;00m data_type \u001b[38;5;241m==\u001b[39m \u001b[38;5;28mbool\u001b[39m:\n\u001b[0;32m    974\u001b[0m         \u001b[38;5;66;03m# Ignore cases.\u001b[39;00m\n\u001b[0;32m    975\u001b[0m         \u001b[38;5;66;03m# http://docs.oracle.com/javase/6/docs/api/java/lang/\u001b[39;00m\n\u001b[0;32m    976\u001b[0m         \u001b[38;5;66;03m# Boolean.html#parseBoolean%28java.lang.String%29\u001b[39;00m\n\u001b[0;32m    977\u001b[0m         data[data_name] \u001b[38;5;241m=\u001b[39m \u001b[38;5;28mself\u001b[39m\u001b[38;5;241m.\u001b[39mconvert_bool[text\u001b[38;5;241m.\u001b[39mlower()]\n",
            "\u001b[1;31mKeyboardInterrupt\u001b[0m: "
          ]
        }
      ],
      "source": [
        "graph_file = \"Grafos/fil.graphml\"  # Replace this with the path to your GraphML file\n",
        "graph = nx.read_graphml(graph_file)"
      ]
    },
    {
      "cell_type": "code",
      "execution_count": null,
      "metadata": {
        "id": "TdxFG1N8TgO-"
      },
      "outputs": [],
      "source": [
        "average_degree = calculate_average_degree(graph)\n",
        "print(\"Average degree:\", average_degree)"
      ]
    },
    {
      "cell_type": "code",
      "execution_count": null,
      "metadata": {
        "id": "Roay6U6nTgO_"
      },
      "outputs": [],
      "source": [
        "plot_degree_distribution(graph)"
      ]
    },
    {
      "cell_type": "code",
      "execution_count": null,
      "metadata": {
        "id": "_QQEPhzvTgPA"
      },
      "outputs": [],
      "source": [
        "clustering_coefficient = nx.average_clustering(graph)\n",
        "print(\"Clustering coefficient:\", clustering_coefficient)"
      ]
    },
    {
      "cell_type": "code",
      "execution_count": null,
      "metadata": {
        "id": "ol7kMchKTgPA"
      },
      "outputs": [],
      "source": [
        "avg_shortest_path_length = calculate_average_shortest_path_length(graph)\n",
        "print(\"Average Shortest Path Length:\", avg_shortest_path_length)"
      ]
    },
    {
      "cell_type": "code",
      "execution_count": null,
      "metadata": {
        "id": "tGdjWiRfTgPB"
      },
      "outputs": [],
      "source": [
        "diameter = calculate_diameter(graph)\n",
        "print(\"Diameter:\", diameter)"
      ]
    },
    {
      "cell_type": "code",
      "execution_count": null,
      "metadata": {
        "id": "CZ2H857QTgPC"
      },
      "outputs": [],
      "source": [
        "assortativity = nx.degree_assortativity_coefficient(graph)\n",
        "print(\"Assortativity:\", assortativity)"
      ]
    },
    {
      "cell_type": "code",
      "execution_count": null,
      "metadata": {
        "id": "nX4QvlgTTgPC"
      },
      "outputs": [],
      "source": [
        "density = nx.density(graph)\n",
        "print(\"Graph Density:\", density)"
      ]
    },
    {
      "cell_type": "code",
      "execution_count": null,
      "metadata": {
        "id": "Xvic4g_wTgPC"
      },
      "outputs": [],
      "source": [
        "degree_correlation = nx.degree_pearson_correlation_coefficient(graph)\n",
        "print(\"Degree Correlation:\", degree_correlation)"
      ]
    },
    {
      "cell_type": "code",
      "execution_count": null,
      "metadata": {
        "id": "F3dLl_d9TgPD"
      },
      "outputs": [],
      "source": [
        "page_rank = nx.pagerank(graph)\n",
        "print(\"PageRank:\", page_rank)\n",
        "plot_page_rank(page_rank)"
      ]
    },
    {
      "cell_type": "code",
      "execution_count": 197,
      "metadata": {
        "colab": {
          "base_uri": "https://localhost:8080/",
          "height": 356
        },
        "id": "pQcoAQ62e-J_",
        "outputId": "44c81f89-8ee6-4b81-9f02-e489e9d5b26e"
      },
      "outputs": [
        {
          "ename": "KeyboardInterrupt",
          "evalue": "",
          "output_type": "error",
          "traceback": [
            "\u001b[0;31m---------------------------------------------------------------------------\u001b[0m",
            "\u001b[0;31mKeyboardInterrupt\u001b[0m                         Traceback (most recent call last)",
            "\u001b[0;32m<ipython-input-197-1acb672cae43>\u001b[0m in \u001b[0;36m<cell line: 4>\u001b[0;34m()\u001b[0m\n\u001b[1;32m      2\u001b[0m \u001b[0;34m\u001b[0m\u001b[0m\n\u001b[1;32m      3\u001b[0m \u001b[0;31m# Load the graph from the GraphML file\u001b[0m\u001b[0;34m\u001b[0m\u001b[0;34m\u001b[0m\u001b[0m\n\u001b[0;32m----> 4\u001b[0;31m \u001b[0mgraph\u001b[0m \u001b[0;34m=\u001b[0m \u001b[0mnx\u001b[0m\u001b[0;34m.\u001b[0m\u001b[0mread_graphml\u001b[0m\u001b[0;34m(\u001b[0m\u001b[0;34m\"pl.graphml\"\u001b[0m\u001b[0;34m)\u001b[0m\u001b[0;34m\u001b[0m\u001b[0;34m\u001b[0m\u001b[0m\n\u001b[0m\u001b[1;32m      5\u001b[0m \u001b[0;34m\u001b[0m\u001b[0m\n\u001b[1;32m      6\u001b[0m \u001b[0;31m# Calculate edge betweenness centrality\u001b[0m\u001b[0;34m\u001b[0m\u001b[0;34m\u001b[0m\u001b[0m\n",
            "\u001b[0;32m/usr/local/lib/python3.10/dist-packages/networkx/utils/decorators.py\u001b[0m in \u001b[0;36margmap_read_graphml_1\u001b[0;34m(path, node_type, edge_key_type, force_multigraph, backend, **backend_kwargs)\u001b[0m\n\u001b[1;32m      3\u001b[0m \u001b[0;32mimport\u001b[0m \u001b[0mgzip\u001b[0m\u001b[0;34m\u001b[0m\u001b[0;34m\u001b[0m\u001b[0m\n\u001b[1;32m      4\u001b[0m \u001b[0;32mimport\u001b[0m \u001b[0minspect\u001b[0m\u001b[0;34m\u001b[0m\u001b[0;34m\u001b[0m\u001b[0m\n\u001b[0;32m----> 5\u001b[0;31m \u001b[0;32mimport\u001b[0m \u001b[0mitertools\u001b[0m\u001b[0;34m\u001b[0m\u001b[0;34m\u001b[0m\u001b[0m\n\u001b[0m\u001b[1;32m      6\u001b[0m \u001b[0;32mimport\u001b[0m \u001b[0mre\u001b[0m\u001b[0;34m\u001b[0m\u001b[0;34m\u001b[0m\u001b[0m\n\u001b[1;32m      7\u001b[0m \u001b[0;32mimport\u001b[0m \u001b[0mwarnings\u001b[0m\u001b[0;34m\u001b[0m\u001b[0;34m\u001b[0m\u001b[0m\n",
            "\u001b[0;32m/usr/local/lib/python3.10/dist-packages/networkx/utils/backends.py\u001b[0m in \u001b[0;36m__call__\u001b[0;34m(self, backend, *args, **kwargs)\u001b[0m\n\u001b[1;32m    631\u001b[0m         \u001b[0;32mif\u001b[0m \u001b[0;32mnot\u001b[0m \u001b[0mbackends\u001b[0m\u001b[0;34m:\u001b[0m\u001b[0;34m\u001b[0m\u001b[0;34m\u001b[0m\u001b[0m\n\u001b[1;32m    632\u001b[0m             \u001b[0;31m# Fast path if no backends are installed\u001b[0m\u001b[0;34m\u001b[0m\u001b[0;34m\u001b[0m\u001b[0m\n\u001b[0;32m--> 633\u001b[0;31m             \u001b[0;32mreturn\u001b[0m \u001b[0mself\u001b[0m\u001b[0;34m.\u001b[0m\u001b[0morig_func\u001b[0m\u001b[0;34m(\u001b[0m\u001b[0;34m*\u001b[0m\u001b[0margs\u001b[0m\u001b[0;34m,\u001b[0m \u001b[0;34m**\u001b[0m\u001b[0mkwargs\u001b[0m\u001b[0;34m)\u001b[0m\u001b[0;34m\u001b[0m\u001b[0;34m\u001b[0m\u001b[0m\n\u001b[0m\u001b[1;32m    634\u001b[0m \u001b[0;34m\u001b[0m\u001b[0m\n\u001b[1;32m    635\u001b[0m         \u001b[0;31m# Use `backend_name` in this function instead of `backend`\u001b[0m\u001b[0;34m\u001b[0m\u001b[0;34m\u001b[0m\u001b[0m\n",
            "\u001b[0;32m/usr/local/lib/python3.10/dist-packages/networkx/readwrite/graphml.py\u001b[0m in \u001b[0;36mread_graphml\u001b[0;34m(path, node_type, edge_key_type, force_multigraph)\u001b[0m\n\u001b[1;32m    294\u001b[0m     \u001b[0mreader\u001b[0m \u001b[0;34m=\u001b[0m \u001b[0mGraphMLReader\u001b[0m\u001b[0;34m(\u001b[0m\u001b[0mnode_type\u001b[0m\u001b[0;34m,\u001b[0m \u001b[0medge_key_type\u001b[0m\u001b[0;34m,\u001b[0m \u001b[0mforce_multigraph\u001b[0m\u001b[0;34m)\u001b[0m\u001b[0;34m\u001b[0m\u001b[0;34m\u001b[0m\u001b[0m\n\u001b[1;32m    295\u001b[0m     \u001b[0;31m# need to check for multiple graphs\u001b[0m\u001b[0;34m\u001b[0m\u001b[0;34m\u001b[0m\u001b[0m\n\u001b[0;32m--> 296\u001b[0;31m     \u001b[0mglist\u001b[0m \u001b[0;34m=\u001b[0m \u001b[0mlist\u001b[0m\u001b[0;34m(\u001b[0m\u001b[0mreader\u001b[0m\u001b[0;34m(\u001b[0m\u001b[0mpath\u001b[0m\u001b[0;34m=\u001b[0m\u001b[0mpath\u001b[0m\u001b[0;34m)\u001b[0m\u001b[0;34m)\u001b[0m\u001b[0;34m\u001b[0m\u001b[0;34m\u001b[0m\u001b[0m\n\u001b[0m\u001b[1;32m    297\u001b[0m     \u001b[0;32mif\u001b[0m \u001b[0mlen\u001b[0m\u001b[0;34m(\u001b[0m\u001b[0mglist\u001b[0m\u001b[0;34m)\u001b[0m \u001b[0;34m==\u001b[0m \u001b[0;36m0\u001b[0m\u001b[0;34m:\u001b[0m\u001b[0;34m\u001b[0m\u001b[0;34m\u001b[0m\u001b[0m\n\u001b[1;32m    298\u001b[0m         \u001b[0;31m# If no graph comes back, try looking for an incomplete header\u001b[0m\u001b[0;34m\u001b[0m\u001b[0;34m\u001b[0m\u001b[0m\n",
            "\u001b[0;32m/usr/local/lib/python3.10/dist-packages/networkx/readwrite/graphml.py\u001b[0m in \u001b[0;36m__call__\u001b[0;34m(self, path, string)\u001b[0m\n\u001b[1;32m    850\u001b[0m \u001b[0;34m\u001b[0m\u001b[0m\n\u001b[1;32m    851\u001b[0m         \u001b[0;32mif\u001b[0m \u001b[0mpath\u001b[0m \u001b[0;32mis\u001b[0m \u001b[0;32mnot\u001b[0m \u001b[0;32mNone\u001b[0m\u001b[0;34m:\u001b[0m\u001b[0;34m\u001b[0m\u001b[0;34m\u001b[0m\u001b[0m\n\u001b[0;32m--> 852\u001b[0;31m             \u001b[0mself\u001b[0m\u001b[0;34m.\u001b[0m\u001b[0mxml\u001b[0m \u001b[0;34m=\u001b[0m \u001b[0mElementTree\u001b[0m\u001b[0;34m(\u001b[0m\u001b[0mfile\u001b[0m\u001b[0;34m=\u001b[0m\u001b[0mpath\u001b[0m\u001b[0;34m)\u001b[0m\u001b[0;34m\u001b[0m\u001b[0;34m\u001b[0m\u001b[0m\n\u001b[0m\u001b[1;32m    853\u001b[0m         \u001b[0;32melif\u001b[0m \u001b[0mstring\u001b[0m \u001b[0;32mis\u001b[0m \u001b[0;32mnot\u001b[0m \u001b[0;32mNone\u001b[0m\u001b[0;34m:\u001b[0m\u001b[0;34m\u001b[0m\u001b[0;34m\u001b[0m\u001b[0m\n\u001b[1;32m    854\u001b[0m             \u001b[0mself\u001b[0m\u001b[0;34m.\u001b[0m\u001b[0mxml\u001b[0m \u001b[0;34m=\u001b[0m \u001b[0mfromstring\u001b[0m\u001b[0;34m(\u001b[0m\u001b[0mstring\u001b[0m\u001b[0;34m)\u001b[0m\u001b[0;34m\u001b[0m\u001b[0;34m\u001b[0m\u001b[0m\n",
            "\u001b[0;32m/usr/lib/python3.10/xml/etree/ElementTree.py\u001b[0m in \u001b[0;36m__init__\u001b[0;34m(self, element, file)\u001b[0m\n\u001b[1;32m    538\u001b[0m         \u001b[0mself\u001b[0m\u001b[0;34m.\u001b[0m\u001b[0m_root\u001b[0m \u001b[0;34m=\u001b[0m \u001b[0melement\u001b[0m \u001b[0;31m# first node\u001b[0m\u001b[0;34m\u001b[0m\u001b[0;34m\u001b[0m\u001b[0m\n\u001b[1;32m    539\u001b[0m         \u001b[0;32mif\u001b[0m \u001b[0mfile\u001b[0m\u001b[0;34m:\u001b[0m\u001b[0;34m\u001b[0m\u001b[0;34m\u001b[0m\u001b[0m\n\u001b[0;32m--> 540\u001b[0;31m             \u001b[0mself\u001b[0m\u001b[0;34m.\u001b[0m\u001b[0mparse\u001b[0m\u001b[0;34m(\u001b[0m\u001b[0mfile\u001b[0m\u001b[0;34m)\u001b[0m\u001b[0;34m\u001b[0m\u001b[0;34m\u001b[0m\u001b[0m\n\u001b[0m\u001b[1;32m    541\u001b[0m \u001b[0;34m\u001b[0m\u001b[0m\n\u001b[1;32m    542\u001b[0m     \u001b[0;32mdef\u001b[0m \u001b[0mgetroot\u001b[0m\u001b[0;34m(\u001b[0m\u001b[0mself\u001b[0m\u001b[0;34m)\u001b[0m\u001b[0;34m:\u001b[0m\u001b[0;34m\u001b[0m\u001b[0;34m\u001b[0m\u001b[0m\n",
            "\u001b[0;32m/usr/lib/python3.10/xml/etree/ElementTree.py\u001b[0m in \u001b[0;36mparse\u001b[0;34m(self, source, parser)\u001b[0m\n\u001b[1;32m    578\u001b[0m                     \u001b[0;31m# It can be used to parse the whole source without feeding\u001b[0m\u001b[0;34m\u001b[0m\u001b[0;34m\u001b[0m\u001b[0m\n\u001b[1;32m    579\u001b[0m                     \u001b[0;31m# it with chunks.\u001b[0m\u001b[0;34m\u001b[0m\u001b[0;34m\u001b[0m\u001b[0m\n\u001b[0;32m--> 580\u001b[0;31m                     \u001b[0mself\u001b[0m\u001b[0;34m.\u001b[0m\u001b[0m_root\u001b[0m \u001b[0;34m=\u001b[0m \u001b[0mparser\u001b[0m\u001b[0;34m.\u001b[0m\u001b[0m_parse_whole\u001b[0m\u001b[0;34m(\u001b[0m\u001b[0msource\u001b[0m\u001b[0;34m)\u001b[0m\u001b[0;34m\u001b[0m\u001b[0;34m\u001b[0m\u001b[0m\n\u001b[0m\u001b[1;32m    581\u001b[0m                     \u001b[0;32mreturn\u001b[0m \u001b[0mself\u001b[0m\u001b[0;34m.\u001b[0m\u001b[0m_root\u001b[0m\u001b[0;34m\u001b[0m\u001b[0;34m\u001b[0m\u001b[0m\n\u001b[1;32m    582\u001b[0m             \u001b[0;32mwhile\u001b[0m \u001b[0;32mTrue\u001b[0m\u001b[0;34m:\u001b[0m\u001b[0;34m\u001b[0m\u001b[0;34m\u001b[0m\u001b[0m\n",
            "\u001b[0;31mKeyboardInterrupt\u001b[0m: "
          ]
        }
      ],
      "source": [
        "group_betweenness = nx.group_betweenness_centrality(graph)\n",
        "print(\"Group Betweenness Centrality:\", group_betweenness)\n"
      ]
    }
  ],
  "metadata": {
    "colab": {
      "provenance": []
    },
    "kernelspec": {
      "display_name": "Python 3",
      "name": "python3"
    },
    "language_info": {
      "codemirror_mode": {
        "name": "ipython",
        "version": 3
      },
      "file_extension": ".py",
      "mimetype": "text/x-python",
      "name": "python",
      "nbconvert_exporter": "python",
      "pygments_lexer": "ipython3",
      "version": "3.12.0"
    }
  },
  "nbformat": 4,
  "nbformat_minor": 0
}
